{
 "cells": [
  {
   "cell_type": "code",
   "execution_count": 32,
   "metadata": {},
   "outputs": [],
   "source": [
    "import os\n",
    "import geopandas as gpd\n",
    "import matplotlib.pyplot as plt\n",
    "import seaborn as sns"
   ]
  },
  {
   "cell_type": "code",
   "execution_count": 33,
   "metadata": {},
   "outputs": [],
   "source": [
    "import sys\n",
    "sys.path.append('..')"
   ]
  },
  {
   "cell_type": "code",
   "execution_count": 34,
   "metadata": {},
   "outputs": [],
   "source": [
    "import fetch_missing_chirps_files as fmcf\n",
    "import chcfetch.constants\n",
    "import read_tifs_create_met as rtcm"
   ]
  },
  {
   "cell_type": "code",
   "execution_count": null,
   "metadata": {},
   "outputs": [],
   "source": [
    "YEARS = [1981, 2020]"
   ]
  },
  {
   "cell_type": "code",
   "execution_count": null,
   "metadata": {},
   "outputs": [],
   "source": [
    "GEOGLAM_CHIRPS_FOLDERPATH = '../../../../nh_crop_calendar/crop_calendar/data/cluster_files/chirps/'\n",
    "CHC_CHIRPS_DOWNLOAD_FOLDERPATH = '../../../../nh_crop_calendar/crop_calendar/data/chc/chirps-v2.0/p05/'"
   ]
  },
  {
   "cell_type": "code",
   "execution_count": null,
   "metadata": {},
   "outputs": [],
   "source": [
    "CHIRPS_REF_TIF_FILEPATH = '../../../../nh_crop_calendar/crop_calendar/data/cluster_files/chirps/chirps_2019/global/chirps_v2.0.2019001_global.tif'"
   ]
  },
  {
   "cell_type": "code",
   "execution_count": null,
   "metadata": {},
   "outputs": [],
   "source": [
    "os.path.exists(CHIRPS_REF_TIF_FILEPATH)"
   ]
  },
  {
   "cell_type": "code",
   "execution_count": null,
   "metadata": {},
   "outputs": [],
   "source": [
    "chirps_bounds_gdf = gpd.read_file(chcfetch.constants.CHIRPS_V2_P50_BOUNDS_GEOJSON_FILEPATH)"
   ]
  },
  {
   "cell_type": "code",
   "execution_count": null,
   "metadata": {},
   "outputs": [],
   "source": [
    "chirps_bounds_gdf"
   ]
  },
  {
   "cell_type": "code",
   "execution_count": null,
   "metadata": {},
   "outputs": [],
   "source": [
    "eth_gdf = gpd.read_file('../../../../ethiopia/data/Eth_Woreda_2013_UTM/Eth_Woreda_2013_UTM.shp')"
   ]
  },
  {
   "cell_type": "code",
   "execution_count": null,
   "metadata": {},
   "outputs": [],
   "source": [
    "eth_gdf.to_crs('epsg:4326').iloc[[eth_gdf.area.argmin()]]"
   ]
  },
  {
   "cell_type": "code",
   "execution_count": null,
   "metadata": {},
   "outputs": [],
   "source": [
    "smallest_zone_gdf = eth_gdf.to_crs('epsg:4326').iloc[[eth_gdf.area.argmin()],].reset_index(drop=True)"
   ]
  },
  {
   "cell_type": "code",
   "execution_count": null,
   "metadata": {},
   "outputs": [],
   "source": [
    "smallest_zone_gdf['geometry'][0]"
   ]
  },
  {
   "cell_type": "code",
   "execution_count": null,
   "metadata": {},
   "outputs": [],
   "source": [
    "smallest_zone_gdf.to_file('../data/eth_smalled_shape.geojson')"
   ]
  },
  {
   "cell_type": "code",
   "execution_count": null,
   "metadata": {},
   "outputs": [],
   "source": [
    "smallest_zone_gdf.within(chirps_bounds_gdf['geometry'][0])"
   ]
  },
  {
   "cell_type": "code",
   "execution_count": null,
   "metadata": {},
   "outputs": [],
   "source": [
    "catalogue_df = fmcf.fetch_missing_chirps_v2p0_p05_files(\n",
    "    years = YEARS,\n",
    "    geoglam_chirps_data_folderpath = GEOGLAM_CHIRPS_FOLDERPATH,\n",
    "    chc_chirps_v2_0_p05_download_folderpath = CHC_CHIRPS_DOWNLOAD_FOLDERPATH,\n",
    "    # njobs = njobs,\n",
    "    # overwrite = overwrite,\n",
    "    # tif_filepath_col = tif_filepath_col,\n",
    ")"
   ]
  },
  {
   "cell_type": "code",
   "execution_count": null,
   "metadata": {},
   "outputs": [],
   "source": [
    "catalogue_df['filetype'].value_counts()"
   ]
  },
  {
   "cell_type": "code",
   "execution_count": null,
   "metadata": {},
   "outputs": [],
   "source": [
    "catalogue_df"
   ]
  },
  {
   "cell_type": "code",
   "execution_count": null,
   "metadata": {},
   "outputs": [],
   "source": [
    "catalogue_df[rtcm.COL_METHOD] = rtcm.LoadTIFMethod.READ_AND_CROP\n",
    "catalogue_df.loc[\n",
    "    catalogue_df[fmcf.COL_FILETYPE] == fmcf.EXT_TIF_GZ,\n",
    "    rtcm.COL_METHOD\n",
    "] = rtcm.LoadTIFMethod.COREGISTER_AND_CROP"
   ]
  },
  {
   "cell_type": "code",
   "execution_count": null,
   "metadata": {},
   "outputs": [],
   "source": [
    "catalogue_df['method'].value_counts()"
   ]
  },
  {
   "cell_type": "code",
   "execution_count": null,
   "metadata": {},
   "outputs": [],
   "source": [
    "# njobs = 8 -> 39.2s\n",
    "# njobs = 1 -> 3m 15.1s\n",
    "\n",
    "updated_catalogue_df = rtcm.read_tifs_get_agg_value(\n",
    "    shapes_gdf = smallest_zone_gdf,\n",
    "    catalogue_df = catalogue_df,\n",
    "    val_col = 'mean chirps',\n",
    "    reference_tif_filepath = CHIRPS_REF_TIF_FILEPATH,\n",
    "    # njobs = 1,\n",
    "    working_folderpath = '../data/temp_working_dir'\n",
    ")"
   ]
  },
  {
   "cell_type": "code",
   "execution_count": null,
   "metadata": {},
   "outputs": [],
   "source": [
    "scale = 5\n",
    "aspect_ratio = 3\n",
    "fig, ax = plt.subplots(figsize=(scale*aspect_ratio, scale))\n",
    "sns.lineplot(\n",
    "    ax = ax,\n",
    "    data = updated_catalogue_df,\n",
    "    x = 'date',\n",
    "    y = 'mean chirps',\n",
    ")"
   ]
  },
  {
   "cell_type": "code",
   "execution_count": null,
   "metadata": {},
   "outputs": [],
   "source": [
    "updated_catalogue_df"
   ]
  },
  {
   "cell_type": "code",
   "execution_count": null,
   "metadata": {},
   "outputs": [],
   "source": [
    "list(range(2020, 2020+1))"
   ]
  },
  {
   "cell_type": "code",
   "execution_count": null,
   "metadata": {},
   "outputs": [],
   "source": [
    "\"\"\"\n",
    "- roi_shapefile\n",
    "- start_year\n",
    "- end_year\n",
    "- geoglam_chirps_folderpath\n",
    "- chc_chirps_download_folderpath\n",
    "- reference_tif_filepath\n",
    "- aggregation\n",
    "- njobs\n",
    "- export_filepath\n",
    "\"\"\"\n",
    "\n",
    "(\n",
    "    \"./data/eth_smalled_shape.geojson \"\n",
    "    \"2019 \"\n",
    "    \"2023 \"\n",
    "    \"../../../nh_crop_calendar/crop_calendar/data/cluster_files/chirps/ \"\n",
    "    \"../../../nh_crop_calendar/crop_calendar/data/chc/chirps-v2.0/p05 \"\n",
    "    \"../../../nh_crop_calendar/crop_calendar/data/cluster_files/chirps/... \"\n",
    "    \"mean \"\n",
    "    \"-1 \"\n",
    "    \"./data/test_out.csv\"\n",
    "    \"./data/temp_working_dir/\"\n",
    ")"
   ]
  },
  {
   "cell_type": "code",
   "execution_count": 35,
   "metadata": {},
   "outputs": [],
   "source": [
    "import pandas as pd"
   ]
  },
  {
   "cell_type": "code",
   "execution_count": 36,
   "metadata": {},
   "outputs": [],
   "source": [
    "out_df = pd.read_csv('../data/test_out.csv')"
   ]
  },
  {
   "cell_type": "code",
   "execution_count": 37,
   "metadata": {},
   "outputs": [
    {
     "data": {
      "text/html": [
       "<div>\n",
       "<style scoped>\n",
       "    .dataframe tbody tr th:only-of-type {\n",
       "        vertical-align: middle;\n",
       "    }\n",
       "\n",
       "    .dataframe tbody tr th {\n",
       "        vertical-align: top;\n",
       "    }\n",
       "\n",
       "    .dataframe thead th {\n",
       "        text-align: right;\n",
       "    }\n",
       "</style>\n",
       "<table border=\"1\" class=\"dataframe\">\n",
       "  <thead>\n",
       "    <tr style=\"text-align: right;\">\n",
       "      <th></th>\n",
       "      <th>date</th>\n",
       "      <th>year</th>\n",
       "      <th>day</th>\n",
       "      <th>mean CHIRPS</th>\n",
       "    </tr>\n",
       "  </thead>\n",
       "  <tbody>\n",
       "    <tr>\n",
       "      <th>0</th>\n",
       "      <td>1982-01-01</td>\n",
       "      <td>1982</td>\n",
       "      <td>1</td>\n",
       "      <td>4.095</td>\n",
       "    </tr>\n",
       "    <tr>\n",
       "      <th>1</th>\n",
       "      <td>1982-01-02</td>\n",
       "      <td>1982</td>\n",
       "      <td>2</td>\n",
       "      <td>0.000</td>\n",
       "    </tr>\n",
       "    <tr>\n",
       "      <th>2</th>\n",
       "      <td>1982-01-03</td>\n",
       "      <td>1982</td>\n",
       "      <td>3</td>\n",
       "      <td>0.000</td>\n",
       "    </tr>\n",
       "    <tr>\n",
       "      <th>3</th>\n",
       "      <td>1982-01-04</td>\n",
       "      <td>1982</td>\n",
       "      <td>4</td>\n",
       "      <td>0.000</td>\n",
       "    </tr>\n",
       "    <tr>\n",
       "      <th>4</th>\n",
       "      <td>1982-01-05</td>\n",
       "      <td>1982</td>\n",
       "      <td>5</td>\n",
       "      <td>0.000</td>\n",
       "    </tr>\n",
       "    <tr>\n",
       "      <th>...</th>\n",
       "      <td>...</td>\n",
       "      <td>...</td>\n",
       "      <td>...</td>\n",
       "      <td>...</td>\n",
       "    </tr>\n",
       "    <tr>\n",
       "      <th>15907</th>\n",
       "      <td>1981-12-27</td>\n",
       "      <td>1981</td>\n",
       "      <td>361</td>\n",
       "      <td>0.000</td>\n",
       "    </tr>\n",
       "    <tr>\n",
       "      <th>15908</th>\n",
       "      <td>1981-12-28</td>\n",
       "      <td>1981</td>\n",
       "      <td>362</td>\n",
       "      <td>0.000</td>\n",
       "    </tr>\n",
       "    <tr>\n",
       "      <th>15909</th>\n",
       "      <td>1981-12-29</td>\n",
       "      <td>1981</td>\n",
       "      <td>363</td>\n",
       "      <td>0.000</td>\n",
       "    </tr>\n",
       "    <tr>\n",
       "      <th>15910</th>\n",
       "      <td>1981-12-30</td>\n",
       "      <td>1981</td>\n",
       "      <td>364</td>\n",
       "      <td>5.000</td>\n",
       "    </tr>\n",
       "    <tr>\n",
       "      <th>15911</th>\n",
       "      <td>1981-12-31</td>\n",
       "      <td>1981</td>\n",
       "      <td>365</td>\n",
       "      <td>0.000</td>\n",
       "    </tr>\n",
       "  </tbody>\n",
       "</table>\n",
       "<p>15912 rows × 4 columns</p>\n",
       "</div>"
      ],
      "text/plain": [
       "             date  year  day  mean CHIRPS\n",
       "0      1982-01-01  1982    1        4.095\n",
       "1      1982-01-02  1982    2        0.000\n",
       "2      1982-01-03  1982    3        0.000\n",
       "3      1982-01-04  1982    4        0.000\n",
       "4      1982-01-05  1982    5        0.000\n",
       "...           ...   ...  ...          ...\n",
       "15907  1981-12-27  1981  361        0.000\n",
       "15908  1981-12-28  1981  362        0.000\n",
       "15909  1981-12-29  1981  363        0.000\n",
       "15910  1981-12-30  1981  364        5.000\n",
       "15911  1981-12-31  1981  365        0.000\n",
       "\n",
       "[15912 rows x 4 columns]"
      ]
     },
     "execution_count": 37,
     "metadata": {},
     "output_type": "execute_result"
    }
   ],
   "source": [
    "out_df"
   ]
  },
  {
   "cell_type": "code",
   "execution_count": 38,
   "metadata": {},
   "outputs": [],
   "source": [
    "import datetime"
   ]
  },
  {
   "cell_type": "code",
   "execution_count": 39,
   "metadata": {},
   "outputs": [],
   "source": [
    "out_df['date'] = out_df['date'].apply(lambda x: datetime.datetime.strptime(x, '%Y-%m-%d'))"
   ]
  },
  {
   "cell_type": "code",
   "execution_count": 40,
   "metadata": {},
   "outputs": [
    {
     "data": {
      "text/plain": [
       "Text(0.5, 1.0, 'Addis Ketema, Ethiopia, mean CHIRPS, 1981 - present')"
      ]
     },
     "execution_count": 40,
     "metadata": {},
     "output_type": "execute_result"
    },
    {
     "data": {
      "image/png": "[encoded data removed]",
      "text/plain": [
       "<Figure size 2000x500 with 1 Axes>"
      ]
     },
     "metadata": {},
     "output_type": "display_data"
    }
   ],
   "source": [
    "scale = 5\n",
    "aspect_ratio = 4\n",
    "fig, ax = plt.subplots(figsize=(scale*aspect_ratio, scale))\n",
    "sns.lineplot(\n",
    "    ax = ax,\n",
    "    data = out_df,\n",
    "    x = 'date',\n",
    "    y = 'mean CHIRPS',\n",
    ")\n",
    "ax.set_title('Addis Ketema, Ethiopia, mean CHIRPS, 1981 - present')"
   ]
  },
  {
   "cell_type": "code",
   "execution_count": null,
   "metadata": {},
   "outputs": [],
   "source": []
  }
 ],
 "metadata": {
  "kernelspec": {
   "display_name": ".venv",
   "language": "python",
   "name": "python3"
  },
  "language_info": {
   "codemirror_mode": {
    "name": "ipython",
    "version": 3
   },
   "file_extension": ".py",
   "mimetype": "text/x-python",
   "name": "python",
   "nbconvert_exporter": "python",
   "pygments_lexer": "ipython3",
   "version": "3.10.11"
  }
 },
 "nbformat": 4,
 "nbformat_minor": 2
}
